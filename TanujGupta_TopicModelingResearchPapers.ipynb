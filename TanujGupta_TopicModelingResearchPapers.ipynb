{
 "cells": [
  {
   "cell_type": "markdown",
   "metadata": {},
   "source": [
    "Import Libraries"
   ]
  },
  {
   "cell_type": "code",
   "execution_count": 1,
   "metadata": {},
   "outputs": [],
   "source": [
    "import re, nltk\n",
    "import os\n",
    "import numpy as np\n",
    "import pandas as pd\n",
    "import matplotlib.pyplot as plt\n",
    "from bs4 import BeautifulSoup\n",
    "from nltk.stem import WordNetLemmatizer\n",
    "from nltk.corpus import stopwords\n",
    "import gensim\n",
    "from gensim.models.phrases import Phrases, Phraser"
   ]
  },
  {
   "cell_type": "markdown",
   "metadata": {},
   "source": [
    "Cleaning Papaer Titles using a function\n",
    "\n",
    "Function to remove regular expressions, stop word and lemmatization."
   ]
  },
  {
   "cell_type": "code",
   "execution_count": 2,
   "metadata": {},
   "outputs": [],
   "source": [
    "def normalizer(title):\n",
    "    soup = BeautifulSoup(title, 'html.parser')   # removing HTML encoding such as ‘&amp’,’&quot’\n",
    "    souped = soup.get_text()\n",
    "    only_words = re.sub(\"(@[A-Za-z0-9]+)|([^A-Za-z \\t])|(\\w+:\\/\\\\\\S+)|([()[\\]{}])\",\" \", souped)\n",
    "    \n",
    "    phrases = Phrases(only_words, min_count=5, threshold=100)\n",
    "    bigram = Phraser(phrases)\n",
    "    \n",
    "\n",
    "    tokens = nltk.word_tokenize(only_words)\n",
    "    removed_letters = [word for word in tokens if len(word)>2] # removing words with length less than or equal to 2\n",
    "    lower_case = [l.lower() for l in removed_letters]\n",
    "\n",
    "    stop_words = set(stopwords.words('english'))\n",
    "    filtered_result = list(filter(lambda l: l not in stop_words, lower_case))\n",
    "    bigrams = bigram[filtered_result]\n",
    "    \n",
    "    \n",
    "\n",
    "    wordnet_lemmatizer = WordNetLemmatizer()\n",
    "    lemmas = [wordnet_lemmatizer.lemmatize(t) for t in bigrams]\n",
    "    return lemmas"
   ]
  },
  {
   "cell_type": "markdown",
   "metadata": {},
   "source": [
    "Loading unprocessed dataset with Paper titles. "
   ]
  },
  {
   "cell_type": "code",
   "execution_count": 3,
   "metadata": {},
   "outputs": [],
   "source": [
    "df = pd.read_csv(\"E:\\\\Graduate Programs\\\\Dissertation\\\\TopiModellingJupyter\\\\arxiv-papers.csv\", encoding = \"ISO-8859-1\")\n",
    "pd.set_option('display.max_colwidth', -1)\n"
   ]
  },
  {
   "cell_type": "code",
   "execution_count": 52,
   "metadata": {},
   "outputs": [
    {
     "name": "stdout",
     "output_type": "stream",
     "text": [
      "937336\n"
     ]
    }
   ],
   "source": [
    "num_words = df['title'].apply(lambda x: len(x.split()))\n",
    "print(sum(num_words))"
   ]
  },
  {
   "cell_type": "markdown",
   "metadata": {},
   "source": [
    "Normalising Titles"
   ]
  },
  {
   "cell_type": "code",
   "execution_count": 4,
   "metadata": {},
   "outputs": [
    {
     "name": "stdout",
     "output_type": "stream",
     "text": [
      "Printing top 5 rows of dataframe showing original and cleaned titles....\n",
      "      arxiv_id  archive_size  \\\n",
      "0  0704.0004v1  9486           \n",
      "1  0704.0010v1  45695          \n",
      "2  0704.0012v1  9560           \n",
      "3  0704.0858v1  355195         \n",
      "4  0704.0861v1  693752         \n",
      "\n",
      "                                                             sha256  \\\n",
      "0  83b5c83d0963d796ed61fae5ed47cac55d2c942d41e03f1b776c283abc4c0af8   \n",
      "1  6dd40a2af3e336e0a8e94a5a20a1075819af829f1fcef70f8e73078cb70e174e   \n",
      "2  7f7997eee4e571f22551c06bf25e2315ac27fc663273c1bdc8d3ef24887e2b45   \n",
      "3  723ba50cc7a5d0d2454df543d6aaacd5948a1bb4690459ac7610af1c9919c363   \n",
      "4  05f2ae4019a2740a8ef53074656ea9de50324150042fd981a42887d08df120c2   \n",
      "\n",
      "                                                                                                   title  \\\n",
      "0  A determinant of Stirling cycle numbers counts unlabeled acyclic single-source automata                 \n",
      "1  Partial cubes: structures, characterizations, and constructions                                         \n",
      "2  Distribution of integral Fourier Coefficients of a Modular Form of Half Integral Weight Modulo Primes   \n",
      "3  Lessons Learned from the deployment of a high-interaction honeypot                                      \n",
      "4  Empirical analysis and statistical modeling of attack processes based on honeypots                      \n",
      "\n",
      "   sections  tables   status  \\\n",
      "0  1         0       success   \n",
      "1  0         0       no-tex    \n",
      "2  7         0       success   \n",
      "3  0         0       no-tex    \n",
      "4  0         0       no-tex    \n",
      "\n",
      "                                                                                      normalized_titles  \n",
      "0  [determinant, stirling, cycle, number, count, unlabeled, acyclic, single, source, automaton]          \n",
      "1  [partial, cube, structure, characterization, construction]                                            \n",
      "2  [distribution, integral, fourier, coefficient, modular, form, half, integral, weight, modulo, prime]  \n",
      "3  [lesson, learned, deployment, high, interaction, honeypot]                                            \n",
      "4  [empirical, analysis, statistical, modeling, attack, process, based, honeypot]                        \n"
     ]
    }
   ],
   "source": [
    "df['normalized_titles'] = df.title.apply(normalizer)\n",
    "df = df[df['normalized_titles'].map(len) > 0] # removing rows with normalized titles of length 0\n",
    "print(\"Printing top 5 rows of dataframe showing original and cleaned titles....\")\n",
    "print(df.head())\n"
   ]
  },
  {
   "cell_type": "code",
   "execution_count": 5,
   "metadata": {},
   "outputs": [
    {
     "name": "stdout",
     "output_type": "stream",
     "text": [
      "                                                                                                   title  \\\n",
      "0  A determinant of Stirling cycle numbers counts unlabeled acyclic single-source automata                 \n",
      "1  Partial cubes: structures, characterizations, and constructions                                         \n",
      "2  Distribution of integral Fourier Coefficients of a Modular Form of Half Integral Weight Modulo Primes   \n",
      "3  Lessons Learned from the deployment of a high-interaction honeypot                                      \n",
      "4  Empirical analysis and statistical modeling of attack processes based on honeypots                      \n",
      "\n",
      "                                                                                      normalized_titles  \n",
      "0  [determinant, stirling, cycle, number, count, unlabeled, acyclic, single, source, automaton]          \n",
      "1  [partial, cube, structure, characterization, construction]                                            \n",
      "2  [distribution, integral, fourier, coefficient, modular, form, half, integral, weight, modulo, prime]  \n",
      "3  [lesson, learned, deployment, high, interaction, honeypot]                                            \n",
      "4  [empirical, analysis, statistical, modeling, attack, process, based, honeypot]                        \n"
     ]
    }
   ],
   "source": [
    "df.drop(['arxiv_id', 'archive_size', 'sha256', 'sections', 'tables', 'status'], axis=1, inplace=True)\n",
    "print(df.head())"
   ]
  },
  {
   "cell_type": "markdown",
   "metadata": {},
   "source": [
    "Saving cleaned titles to csv"
   ]
  },
  {
   "cell_type": "code",
   "execution_count": 6,
   "metadata": {},
   "outputs": [
    {
     "name": "stdout",
     "output_type": "stream",
     "text": [
      "0    ['determinant', 'stirling', 'cycle', 'number', 'count', 'unlabeled', 'acyclic', 'single', 'source', 'automaton']          \n",
      "1    ['partial', 'cube', 'structure', 'characterization', 'construction']                                                      \n",
      "2    ['distribution', 'integral', 'fourier', 'coefficient', 'modular', 'form', 'half', 'integral', 'weight', 'modulo', 'prime']\n",
      "3    ['lesson', 'learned', 'deployment', 'high', 'interaction', 'honeypot']                                                    \n",
      "4    ['empirical', 'analysis', 'statistical', 'modeling', 'attack', 'process', 'based', 'honeypot']                            \n",
      "Name: normalized_titles, dtype: object\n"
     ]
    }
   ],
   "source": [
    "df.to_csv('cleaned_data.csv', encoding='utf-8', index=False)\n",
    "cleaned_data = pd.read_csv(\"cleaned_data.csv\", encoding = \"ISO-8859-1\")\n",
    "pd.set_option('display.max_colwidth', -1)\n",
    "data = cleaned_data.normalized_titles\n",
    "print(data.head())"
   ]
  },
  {
   "cell_type": "code",
   "execution_count": 53,
   "metadata": {},
   "outputs": [
    {
     "name": "stdout",
     "output_type": "stream",
     "text": [
      "782311\n"
     ]
    }
   ],
   "source": [
    "num_words2 = data.apply(lambda x: len(x.split()))\n",
    "print(sum(num_words2))"
   ]
  },
  {
   "cell_type": "markdown",
   "metadata": {},
   "source": [
    "Importing Gensim package"
   ]
  },
  {
   "cell_type": "code",
   "execution_count": 7,
   "metadata": {},
   "outputs": [],
   "source": [
    "import gensim\n",
    "from gensim.models import CoherenceModel, LdaModel, LsiModel, HdpModel\n",
    "from gensim.models.wrappers import LdaMallet\n",
    "from gensim.corpora import Dictionary\n",
    "from pprint import pprint"
   ]
  },
  {
   "cell_type": "markdown",
   "metadata": {},
   "source": [
    "Finalising dictionary and corpus"
   ]
  },
  {
   "cell_type": "code",
   "execution_count": 8,
   "metadata": {},
   "outputs": [
    {
     "data": {
      "text/plain": [
       "{\"'acyclic',\": 0,\n",
       " \"'automaton']\": 1,\n",
       " \"'count',\": 2,\n",
       " \"'cycle',\": 3,\n",
       " \"'number',\": 4,\n",
       " \"'single',\": 5,\n",
       " \"'source',\": 6,\n",
       " \"'stirling',\": 7,\n",
       " \"'unlabeled',\": 8,\n",
       " \"['determinant',\": 9,\n",
       " \"'characterization',\": 10,\n",
       " \"'construction']\": 11,\n",
       " \"'cube',\": 12,\n",
       " \"'structure',\": 13,\n",
       " \"['partial',\": 14,\n",
       " \"'coefficient',\": 15,\n",
       " \"'form',\": 16,\n",
       " \"'fourier',\": 17,\n",
       " \"'half',\": 18,\n",
       " \"'integral',\": 19}"
      ]
     },
     "execution_count": 8,
     "metadata": {},
     "output_type": "execute_result"
    }
   ],
   "source": [
    "import itertools\n",
    "from itertools import islice\n",
    "dataset = [d.split() for d in data]\n",
    "dictionary = Dictionary(dataset)\n",
    "corpus = [dictionary.doc2bow(text) for text in dataset]\n",
    "\n",
    "dic = {}\n",
    "dic.update(dictionary.token2id)\n",
    "dict(islice(dic.items(), 0, 20))\n",
    "\n"
   ]
  },
  {
   "cell_type": "code",
   "execution_count": 9,
   "metadata": {},
   "outputs": [
    {
     "name": "stdout",
     "output_type": "stream",
     "text": [
      "43709\n"
     ]
    }
   ],
   "source": [
    "print(len(dictionary))"
   ]
  },
  {
   "cell_type": "code",
   "execution_count": 10,
   "metadata": {},
   "outputs": [
    {
     "name": "stdout",
     "output_type": "stream",
     "text": [
      "[[(0, 1), (1, 1), (2, 1), (3, 1), (4, 1), (5, 1), (6, 1), (7, 1), (8, 1), (9, 1)], [(10, 1), (11, 1), (12, 1), (13, 1), (14, 1)], [(15, 1), (16, 1), (17, 1), (18, 1), (19, 2), (20, 1), (21, 1), (22, 1), (23, 1), (24, 1)], [(25, 1), (26, 1), (27, 1), (28, 1), (29, 1), (30, 1)], [(27, 1), (31, 1), (32, 1), (33, 1), (34, 1), (35, 1), (36, 1), (37, 1)], [(38, 1), (39, 1), (40, 1), (41, 1), (42, 1), (43, 1), (44, 1), (45, 1), (46, 1), (47, 1), (48, 1)], [(49, 1), (50, 1), (51, 1), (52, 1), (53, 1)], [(54, 1), (55, 1), (56, 1), (57, 1), (58, 1), (59, 1), (60, 1), (61, 1), (62, 1), (63, 1)], [(64, 1), (65, 1), (66, 1), (67, 1), (68, 1)], [(40, 1), (69, 1), (70, 1), (71, 1), (72, 1), (73, 1), (74, 1)], [(75, 1), (76, 1), (77, 1), (78, 1), (79, 1), (80, 1)], [(69, 1), (81, 1), (82, 1), (83, 1), (84, 1)], [(85, 1), (86, 1), (87, 1), (88, 1), (89, 1)], [(90, 1), (91, 1), (92, 1), (93, 1), (94, 1)], [(28, 1), (95, 1), (96, 1), (97, 1), (98, 1), (99, 1), (100, 1), (101, 1), (102, 1), (103, 1), (104, 1)], [(65, 1), (105, 1), (106, 1), (107, 1), (108, 1)], [(109, 1), (110, 1), (111, 1), (112, 1), (113, 1), (114, 1)], [(115, 1), (116, 1), (117, 1), (118, 1), (119, 1), (120, 1), (121, 1), (122, 1), (123, 1), (124, 1)], [(112, 1), (125, 1), (126, 1)], [(127, 1), (128, 1), (129, 1), (130, 1)]]\n"
     ]
    }
   ],
   "source": [
    "print(corpus[:20])"
   ]
  },
  {
   "cell_type": "code",
   "execution_count": 11,
   "metadata": {},
   "outputs": [
    {
     "name": "stdout",
     "output_type": "stream",
     "text": [
      "104708\n"
     ]
    }
   ],
   "source": [
    "print(len(corpus))"
   ]
  },
  {
   "cell_type": "markdown",
   "metadata": {},
   "source": [
    "Applying Models : LSI, LDA, HDP and NMF\n",
    "1st Model : LSI (Latent Semantic Indexing)"
   ]
  },
  {
   "cell_type": "code",
   "execution_count": 54,
   "metadata": {},
   "outputs": [],
   "source": [
    "def evaluate_lsi(dictionary, corpus, texts, limit, start=5, step=5):\n",
    "    \"\"\"\n",
    "    Function to display num_topics - LSI graph using c_v coherence\n",
    "    \n",
    "    Parameters:\n",
    "    ----------\n",
    "    dictionary : Gensim dictionary\n",
    "    corpus : Gensim corpus\n",
    "    limit : topic limit\n",
    "    \n",
    "    Returns:\n",
    "    -------\n",
    "    lsm_list : List of LSI topic models\n",
    "    c_v : Coherence values corresponding to the LSI model with respective number of topics\n",
    "    \"\"\"\n",
    "    c_v = []\n",
    "    lsm_list = []\n",
    "    for num_topics in range(start, limit, step):\n",
    "        lsm = LsiModel(corpus=corpus, num_topics=num_topics, id2word=dictionary)\n",
    "        lsm_list.append(lsm)\n",
    "        cm = CoherenceModel(model=lsm, texts=texts, dictionary=dictionary, coherence='c_v')\n",
    "        c_v.append(cm.get_coherence())\n",
    "        \n",
    "    # Show graph\n",
    "    x = range(start, limit, step)\n",
    "    plt.plot(x, c_v)\n",
    "    plt.xlabel(\"num_topics\")\n",
    "    plt.ylabel(\"Coherence score\")\n",
    "    plt.legend((\"c_v\"), loc='best')\n",
    "    plt.show()\n",
    "    plt.savefig('Lsi_ParameterTuningFinal1.png')\n",
    "    return lsm_list, c_v"
   ]
  },
  {
   "cell_type": "code",
   "execution_count": 55,
   "metadata": {},
   "outputs": [
    {
     "data": {
      "image/png": "[encoded data removed]",
      "text/plain": [
       "<Figure size 432x288 with 1 Axes>"
      ]
     },
     "metadata": {
      "needs_background": "light"
     },
     "output_type": "display_data"
    },
    {
     "data": {
      "text/plain": [
       "<Figure size 432x288 with 0 Axes>"
      ]
     },
     "metadata": {},
     "output_type": "display_data"
    }
   ],
   "source": [
    "lsmlist, c_v1 = evaluate_lsi(dictionary=dictionary, corpus=corpus, texts=dataset, start=5, limit=80, step=5)"
   ]
  },
  {
   "cell_type": "code",
   "execution_count": 56,
   "metadata": {},
   "outputs": [
    {
     "name": "stdout",
     "output_type": "stream",
     "text": [
      "Num Topics = 5  has Coherence Value of 0.1633\n",
      "Num Topics = 10  has Coherence Value of 0.1607\n",
      "Num Topics = 15  has Coherence Value of 0.1663\n",
      "Num Topics = 20  has Coherence Value of 0.1801\n",
      "Num Topics = 25  has Coherence Value of 0.1729\n",
      "Num Topics = 30  has Coherence Value of 0.1864\n",
      "Num Topics = 35  has Coherence Value of 0.1806\n",
      "Num Topics = 40  has Coherence Value of 0.1724\n",
      "Num Topics = 45  has Coherence Value of 0.1744\n",
      "Num Topics = 50  has Coherence Value of 0.176\n",
      "Num Topics = 55  has Coherence Value of 0.1771\n",
      "Num Topics = 60  has Coherence Value of 0.1765\n",
      "Num Topics = 65  has Coherence Value of 0.1799\n",
      "Num Topics = 70  has Coherence Value of 0.179\n",
      "Num Topics = 75  has Coherence Value of 0.1828\n"
     ]
    }
   ],
   "source": [
    "x = range(5, 80, 5)\n",
    "for m, cv in zip(x, c_v1):\n",
    "    print(\"Num Topics =\", m, \" has Coherence Value of\", round(cv, 4))"
   ]
  },
  {
   "cell_type": "code",
   "execution_count": 61,
   "metadata": {},
   "outputs": [],
   "source": [
    "lsimodel = LsiModel(corpus=corpus, num_topics=20, id2word=dictionary)\n",
    "#lsimodel.show_topics()"
   ]
  },
  {
   "cell_type": "markdown",
   "metadata": {},
   "source": [
    "2nd Model : HDP (Hierarchical Dirichlet Process)"
   ]
  },
  {
   "cell_type": "code",
   "execution_count": 16,
   "metadata": {},
   "outputs": [],
   "source": [
    "hdpmodel = HdpModel(corpus=corpus, id2word=dictionary)\n",
    "#hdpmodel.show_topics()"
   ]
  },
  {
   "cell_type": "markdown",
   "metadata": {},
   "source": [
    "3rd Model : LDA (Latent Dirichlet Allocation)"
   ]
  },
  {
   "cell_type": "code",
   "execution_count": 58,
   "metadata": {},
   "outputs": [],
   "source": [
    "def evaluate_graph(dictionary, corpus, texts, limit, start=5, step=5):\n",
    "    \"\"\"\n",
    "    Function to display num_topics - LDA graph using c_v coherence\n",
    "    \n",
    "    Parameters:\n",
    "    ----------\n",
    "    dictionary : Gensim dictionary\n",
    "    corpus : Gensim corpus\n",
    "    limit : topic limit\n",
    "    \n",
    "    Returns:\n",
    "    -------\n",
    "    lm_list : List of LDA topic models\n",
    "    c_v : Coherence values corresponding to the LDA model with respective number of topics\n",
    "    \"\"\"\n",
    "    c_v = []\n",
    "    lm_list = []\n",
    "    for num_topics in range(start, limit, step):\n",
    "        lm = LdaModel(corpus=corpus, num_topics=num_topics, id2word=dictionary)\n",
    "        lm_list.append(lm)\n",
    "        cm = CoherenceModel(model=lm, texts=texts, dictionary=dictionary, coherence='c_v')\n",
    "        c_v.append(cm.get_coherence())\n",
    "        \n",
    "    # Show graph\n",
    "    x = range(start, limit, step)\n",
    "    plt.plot(x, c_v)\n",
    "    plt.xlabel(\"num_topics\")\n",
    "    plt.ylabel(\"Coherence score\")\n",
    "    plt.legend((\"c_v\"), loc='best')\n",
    "    plt.show()\n",
    "    plt.savefig('Lda_ParameterTuningFinal1.png')\n",
    "    return lm_list, c_v"
   ]
  },
  {
   "cell_type": "code",
   "execution_count": 59,
   "metadata": {},
   "outputs": [
    {
     "data": {
      "image/png": "[encoded data removed]",
      "text/plain": [
       "<Figure size 432x288 with 1 Axes>"
      ]
     },
     "metadata": {
      "needs_background": "light"
     },
     "output_type": "display_data"
    },
    {
     "data": {
      "text/plain": [
       "<Figure size 432x288 with 0 Axes>"
      ]
     },
     "metadata": {},
     "output_type": "display_data"
    }
   ],
   "source": [
    "lmlist, c_v2 = evaluate_graph(dictionary=dictionary, corpus=corpus, texts=dataset, start=5,limit=80, step=5)"
   ]
  },
  {
   "cell_type": "code",
   "execution_count": 60,
   "metadata": {},
   "outputs": [
    {
     "name": "stdout",
     "output_type": "stream",
     "text": [
      "Num Topics = 5  has Coherence Value of 0.2001\n",
      "Num Topics = 10  has Coherence Value of 0.2215\n",
      "Num Topics = 15  has Coherence Value of 0.2519\n",
      "Num Topics = 20  has Coherence Value of 0.2538\n",
      "Num Topics = 25  has Coherence Value of 0.2658\n",
      "Num Topics = 30  has Coherence Value of 0.3145\n",
      "Num Topics = 35  has Coherence Value of 0.3382\n",
      "Num Topics = 40  has Coherence Value of 0.3359\n",
      "Num Topics = 45  has Coherence Value of 0.3743\n",
      "Num Topics = 50  has Coherence Value of 0.3968\n",
      "Num Topics = 55  has Coherence Value of 0.3741\n",
      "Num Topics = 60  has Coherence Value of 0.4273\n",
      "Num Topics = 65  has Coherence Value of 0.4231\n",
      "Num Topics = 70  has Coherence Value of 0.4152\n",
      "Num Topics = 75  has Coherence Value of 0.4253\n"
     ]
    }
   ],
   "source": [
    "x = range(5, 80, 5)\n",
    "for m, cv in zip(x, c_v2):\n",
    "    print(\"Num Topics =\", m, \" has Coherence Value of\", round(cv, 4))"
   ]
  },
  {
   "cell_type": "markdown",
   "metadata": {},
   "source": [
    "Coherence reaches max value at the number of topics  = "
   ]
  },
  {
   "cell_type": "code",
   "execution_count": 62,
   "metadata": {},
   "outputs": [],
   "source": [
    "ldamodel = LdaModel(corpus=corpus, num_topics=35, id2word=dictionary)\n",
    "#ldamodel.show_topics()"
   ]
  },
  {
   "cell_type": "markdown",
   "metadata": {},
   "source": [
    "4th Model : Non-Negative Matrix Factorization"
   ]
  },
  {
   "cell_type": "code",
   "execution_count": 21,
   "metadata": {},
   "outputs": [],
   "source": [
    "from gensim.models.nmf import Nmf"
   ]
  },
  {
   "cell_type": "code",
   "execution_count": 63,
   "metadata": {},
   "outputs": [],
   "source": [
    "def evaluate_graph(dictionary, corpus, texts, limit, start=5, step=5):\n",
    "    \"\"\"\n",
    "    Function to display num_topics - LDA graph using c_v coherence\n",
    "    \n",
    "    Parameters:\n",
    "    ----------\n",
    "    dictionary : Gensim dictionary\n",
    "    corpus : Gensim corpus\n",
    "    limit : topic limit\n",
    "    \n",
    "    Returns:\n",
    "    -------\n",
    "    lm_list : List of LDA topic models\n",
    "    c_v : Coherence values corresponding to the LDA model with respective number of topics\n",
    "    \"\"\"\n",
    "    c_v = []\n",
    "    nmf_list = []\n",
    "    for num_topics in range(start, limit, step):\n",
    "        nmf = Nmf(corpus=corpus, num_topics=num_topics, id2word=dictionary)\n",
    "        nmf_list.append(nmf)\n",
    "        cm = CoherenceModel(model=nmf, texts=texts, dictionary=dictionary, coherence='c_v')\n",
    "        c_v.append(cm.get_coherence())\n",
    "        \n",
    "    # Show graph\n",
    "    x = range(start, limit, step)\n",
    "    plt.plot(x, c_v)\n",
    "    plt.xlabel(\"num_topics\")\n",
    "    plt.ylabel(\"Coherence score\")\n",
    "    plt.legend((\"c_v\"), loc='best')\n",
    "    plt.show()\n",
    "    plt.savefig('NMF_ParameterTuningFinal1.png')\n",
    "    return nmf_list, c_v"
   ]
  },
  {
   "cell_type": "code",
   "execution_count": 64,
   "metadata": {},
   "outputs": [
    {
     "data": {
      "image/png": "[encoded data removed]",
      "text/plain": [
       "<Figure size 432x288 with 1 Axes>"
      ]
     },
     "metadata": {
      "needs_background": "light"
     },
     "output_type": "display_data"
    },
    {
     "data": {
      "text/plain": [
       "<Figure size 432x288 with 0 Axes>"
      ]
     },
     "metadata": {},
     "output_type": "display_data"
    }
   ],
   "source": [
    "nmflist, c_v3 = evaluate_graph(dictionary=dictionary, corpus=corpus, texts=dataset, start=5, limit=80, step=5)"
   ]
  },
  {
   "cell_type": "code",
   "execution_count": 65,
   "metadata": {},
   "outputs": [
    {
     "name": "stdout",
     "output_type": "stream",
     "text": [
      "Num Topics = 5  has Coherence Value of 0.1723\n",
      "Num Topics = 10  has Coherence Value of 0.2393\n",
      "Num Topics = 15  has Coherence Value of 0.2614\n",
      "Num Topics = 20  has Coherence Value of 0.2696\n",
      "Num Topics = 25  has Coherence Value of 0.2698\n",
      "Num Topics = 30  has Coherence Value of 0.2786\n",
      "Num Topics = 35  has Coherence Value of 0.2721\n",
      "Num Topics = 40  has Coherence Value of 0.2863\n",
      "Num Topics = 45  has Coherence Value of 0.2875\n",
      "Num Topics = 50  has Coherence Value of 0.2785\n",
      "Num Topics = 55  has Coherence Value of 0.2967\n",
      "Num Topics = 60  has Coherence Value of 0.2998\n",
      "Num Topics = 65  has Coherence Value of 0.3014\n",
      "Num Topics = 70  has Coherence Value of 0.3017\n",
      "Num Topics = 75  has Coherence Value of 0.2988\n"
     ]
    }
   ],
   "source": [
    "x = range(5, 80, 5)\n",
    "for m, cv in zip(x, c_v3):\n",
    "    print(\"Num Topics =\", m, \" has Coherence Value of\", round(cv, 4))"
   ]
  },
  {
   "cell_type": "code",
   "execution_count": 66,
   "metadata": {},
   "outputs": [],
   "source": [
    "nmfmodel = Nmf(corpus=corpus, num_topics=35, id2word=dictionary)\n",
    "#nmfmodel.show_topics()"
   ]
  },
  {
   "cell_type": "markdown",
   "metadata": {},
   "source": [
    "Evaluating all the topic models\n"
   ]
  },
  {
   "cell_type": "markdown",
   "metadata": {},
   "source": [
    "Storing topics for each model"
   ]
  },
  {
   "cell_type": "code",
   "execution_count": 67,
   "metadata": {},
   "outputs": [],
   "source": [
    "lsitopics = lsimodel.show_topics(formatted=False)\n",
    "hdptopics = hdpmodel.show_topics(formatted=False)\n",
    "ldatopics = ldamodel.show_topics(formatted=False)\n",
    "nmftopics = nmfmodel.show_topics(formatted=False)"
   ]
  },
  {
   "cell_type": "code",
   "execution_count": 68,
   "metadata": {},
   "outputs": [],
   "source": [
    "lsitopics = [[word for word, prob in topic] for topicid, topic in lsitopics]\n",
    "hdptopics = [[word for word, prob in topic] for topicid, topic in hdptopics]\n",
    "ldatopics = [[word for word, prob in topic] for topicid, topic in ldatopics]\n",
    "nmftopics = [[word for word, prob in topic] for topicid, topic in nmftopics]"
   ]
  },
  {
   "cell_type": "code",
   "execution_count": 69,
   "metadata": {},
   "outputs": [],
   "source": [
    "lsi_coherence = CoherenceModel(topics=lsitopics, texts=dataset, dictionary=dictionary, window_size=10).get_coherence()\n",
    "hdp_coherence = CoherenceModel(topics=hdptopics, texts=dataset, dictionary=dictionary, window_size=10).get_coherence()\n",
    "lda_coherence = CoherenceModel(topics=ldatopics, texts=dataset, dictionary=dictionary, window_size=10).get_coherence()\n",
    "nmf_coherence = CoherenceModel(topics=nmftopics, texts=dataset, dictionary=dictionary, window_size=10).get_coherence()"
   ]
  },
  {
   "cell_type": "code",
   "execution_count": 70,
   "metadata": {},
   "outputs": [],
   "source": [
    "def evaluate_bar_graph(coherences, indices):\n",
    "    \"\"\"\n",
    "    Function to plot bar graph.\n",
    "    \n",
    "    coherences: list of coherence values\n",
    "    indices: Indices to be used to mark bars. Length of this and coherences should be equal.\n",
    "    \"\"\"\n",
    "    assert len(coherences) == len(indices)\n",
    "    n = len(coherences)\n",
    "    x = np.arange(n)\n",
    "    plt.bar(x, coherences, width=0.2, tick_label=indices, align='center')\n",
    "    plt.xlabel('Models')\n",
    "    plt.ylabel('Coherence Value')\n",
    "    plt.savefig('ModelEvalutionFinal1.png')"
   ]
  },
  {
   "cell_type": "code",
   "execution_count": 71,
   "metadata": {},
   "outputs": [
    {
     "data": {
      "image/png": "[encoded data removed]",
      "text/plain": [
       "<Figure size 432x288 with 1 Axes>"
      ]
     },
     "metadata": {
      "needs_background": "light"
     },
     "output_type": "display_data"
    }
   ],
   "source": [
    "evaluate_bar_graph([lsi_coherence, hdp_coherence, lda_coherence, nmf_coherence],\n",
    "                   ['LSI', 'HDP', 'LDA', 'NMF'])"
   ]
  },
  {
   "cell_type": "code",
   "execution_count": 31,
   "metadata": {},
   "outputs": [],
   "source": [
    "#import pyLDAvis.gensim\n",
    "#pyLDAvis.enable_notebook()\n",
    "#pyLDAvis.gensim.prepare(ldamodel, corpus, dictionary)"
   ]
  },
  {
   "cell_type": "markdown",
   "metadata": {},
   "source": [
    "Clearly NMF has higher coherence score."
   ]
  },
  {
   "cell_type": "markdown",
   "metadata": {},
   "source": [
    "Dominant Topic for each document"
   ]
  },
  {
   "cell_type": "code",
   "execution_count": 72,
   "metadata": {},
   "outputs": [
    {
     "name": "stdout",
     "output_type": "stream",
     "text": [
      "[(0, 0.024847758376835463), (1, 0.014779579804285344), (2, 0.011201269687153884), (5, 0.015412005013750913), (8, 0.017897591230206355), (9, 0.01759798020227623), (10, 0.020079162338145332), (11, 0.017962073853818407), (13, 0.07468024971702185), (16, 0.041997347439119696), (19, 0.015729937525209937), (20, 0.12444583743635672), (22, 0.0130783769049535), (23, 0.07345788739725587), (24, 0.06832237306748695), (28, 0.04371601757363863), (29, 0.22995964827451407), (31, 0.04951507745243679), (32, 0.0291805360447847), (33, 0.05749023919983689), (34, 0.018981606731469074)]\n"
     ]
    }
   ],
   "source": [
    "get_document_topics = nmfmodel.get_document_topics(corpus[0])\n",
    "print(get_document_topics)"
   ]
  },
  {
   "cell_type": "code",
   "execution_count": 73,
   "metadata": {},
   "outputs": [
    {
     "data": {
      "text/html": [
       "<div>\n",
       "<style scoped>\n",
       "    .dataframe tbody tr th:only-of-type {\n",
       "        vertical-align: middle;\n",
       "    }\n",
       "\n",
       "    .dataframe tbody tr th {\n",
       "        vertical-align: top;\n",
       "    }\n",
       "\n",
       "    .dataframe thead th {\n",
       "        text-align: right;\n",
       "    }\n",
       "</style>\n",
       "<table border=\"1\" class=\"dataframe\">\n",
       "  <thead>\n",
       "    <tr style=\"text-align: right;\">\n",
       "      <th></th>\n",
       "      <th>Document_No</th>\n",
       "      <th>Dominant_Topic</th>\n",
       "      <th>Topic_Perc_Contrib</th>\n",
       "      <th>Keywords</th>\n",
       "      <th>Text</th>\n",
       "    </tr>\n",
       "  </thead>\n",
       "  <tbody>\n",
       "    <tr>\n",
       "      <td>0</td>\n",
       "      <td>0</td>\n",
       "      <td>29.0</td>\n",
       "      <td>0.2304</td>\n",
       "      <td>'estimation',, 'graph',, 'pose',, 'supervised',, 'depth',, 'image'], 'single',, 'density',, 'parameter',, 'semi',</td>\n",
       "      <td>[['determinant',, 'stirling',, 'cycle',, 'number',, 'count',, 'unlabeled',, 'acyclic',, 'single',, 'source',, 'automaton']]</td>\n",
       "    </tr>\n",
       "    <tr>\n",
       "      <td>1</td>\n",
       "      <td>1</td>\n",
       "      <td>3.0</td>\n",
       "      <td>0.1454</td>\n",
       "      <td>'kernel',, 'vector',, 'machine',, 'analysis'], 'support',, 'network',, 'machine'], 'multiple',, 'quantum',, 'space',</td>\n",
       "      <td>[['partial',, 'cube',, 'structure',, 'characterization',, 'construction']]</td>\n",
       "    </tr>\n",
       "    <tr>\n",
       "      <td>2</td>\n",
       "      <td>2</td>\n",
       "      <td>28.0</td>\n",
       "      <td>0.1686</td>\n",
       "      <td>'set',, 'system'], 'answer',, 'modeling',, 'random',, 'programming'], 'level',, 'question',, 'programming',, 'language',</td>\n",
       "      <td>[['distribution',, 'integral',, 'fourier',, 'coefficient',, 'modular',, 'form',, 'half',, 'integral',, 'weight',, 'modulo',, 'prime']]</td>\n",
       "    </tr>\n",
       "    <tr>\n",
       "      <td>3</td>\n",
       "      <td>3</td>\n",
       "      <td>15.0</td>\n",
       "      <td>0.9562</td>\n",
       "      <td>'high',, 'method',, 'sparse',, 'dimensional',, 'matrix',, 'data'], ['efficient',, 'resolution',, ['fast',, 'gradient',</td>\n",
       "      <td>[['lesson',, 'learned',, 'deployment',, 'high',, 'interaction',, 'honeypot']]</td>\n",
       "    </tr>\n",
       "    <tr>\n",
       "      <td>4</td>\n",
       "      <td>4</td>\n",
       "      <td>4.0</td>\n",
       "      <td>0.3969</td>\n",
       "      <td>'based',, 'graph',, 'system'], 'attention',, 'segmentation',, 'cnn',, 'prediction',, 'text',, 'rule',, 'vision',</td>\n",
       "      <td>[['empirical',, 'analysis',, 'statistical',, 'modeling',, 'attack',, 'process',, 'based',, 'honeypot']]</td>\n",
       "    </tr>\n",
       "    <tr>\n",
       "      <td>5</td>\n",
       "      <td>5</td>\n",
       "      <td>31.0</td>\n",
       "      <td>0.5190</td>\n",
       "      <td>'data',, 'driven',, 'big',, 'analysis'], 'augmentation',, 'training',, 'mining',, 'augmentation'], 'stream'], 'set']</td>\n",
       "      <td>[['multimodal',, 'nested',, 'sampling',, 'efficient',, 'robust',, 'alternative',, 'mcmc',, 'method',, 'astronomical',, 'data',, 'analysis']]</td>\n",
       "    </tr>\n",
       "    <tr>\n",
       "      <td>6</td>\n",
       "      <td>6</td>\n",
       "      <td>13.0</td>\n",
       "      <td>0.2226</td>\n",
       "      <td>'optimization',, 'data'], 'clustering',, 'function',, 'framework',, 'search',, 'convex',, 'algorithm'], 'belief',, 'mean',</td>\n",
       "      <td>[['avoiding',, 'rotated',, 'bitboards',, 'direct',, 'lookup']]</td>\n",
       "    </tr>\n",
       "    <tr>\n",
       "      <td>7</td>\n",
       "      <td>7</td>\n",
       "      <td>7.0</td>\n",
       "      <td>0.8858</td>\n",
       "      <td>'deep',, 'application',, 'classification'], 'optimal',, 'gradient',, 'training',, 'architecture',, 'net',, ['towards',, 'reinforcement',</td>\n",
       "      <td>[['garching',, 'bonn',, 'deep',, 'survey',, 'gabods',, 'wide',, 'field',, 'imaging',, 'reduction',, 'pipeline']]</td>\n",
       "    </tr>\n",
       "    <tr>\n",
       "      <td>8</td>\n",
       "      <td>8</td>\n",
       "      <td>12.0</td>\n",
       "      <td>0.7630</td>\n",
       "      <td>'network'], 'neural',, 'convolutional',, 'recurrent',, 'adversarial',, 'generative',, 'deep',, 'training',, 'graph',, 'fully',</td>\n",
       "      <td>[['multi',, 'dimensional',, 'recurrent',, 'neural',, 'network']]</td>\n",
       "    </tr>\n",
       "    <tr>\n",
       "      <td>9</td>\n",
       "      <td>9</td>\n",
       "      <td>2.0</td>\n",
       "      <td>0.6778</td>\n",
       "      <td>'linear',, 'non',, 'time',, 'application',, 'online',, 'optimal',, 'problem'], 'space',, 'regression',, 'bound',</td>\n",
       "      <td>[['aspect',, 'measurement',, 'error',, 'linear',, 'regression',, 'astronomical',, 'data']]</td>\n",
       "    </tr>\n",
       "  </tbody>\n",
       "</table>\n",
       "</div>"
      ],
      "text/plain": [
       "   Document_No  Dominant_Topic  Topic_Perc_Contrib  \\\n",
       "0  0            29.0            0.2304               \n",
       "1  1            3.0             0.1454               \n",
       "2  2            28.0            0.1686               \n",
       "3  3            15.0            0.9562               \n",
       "4  4            4.0             0.3969               \n",
       "5  5            31.0            0.5190               \n",
       "6  6            13.0            0.2226               \n",
       "7  7            7.0             0.8858               \n",
       "8  8            12.0            0.7630               \n",
       "9  9            2.0             0.6778               \n",
       "\n",
       "                                                                                                                                   Keywords  \\\n",
       "0  'estimation',, 'graph',, 'pose',, 'supervised',, 'depth',, 'image'], 'single',, 'density',, 'parameter',, 'semi',                          \n",
       "1  'kernel',, 'vector',, 'machine',, 'analysis'], 'support',, 'network',, 'machine'], 'multiple',, 'quantum',, 'space',                       \n",
       "2  'set',, 'system'], 'answer',, 'modeling',, 'random',, 'programming'], 'level',, 'question',, 'programming',, 'language',                   \n",
       "3  'high',, 'method',, 'sparse',, 'dimensional',, 'matrix',, 'data'], ['efficient',, 'resolution',, ['fast',, 'gradient',                     \n",
       "4  'based',, 'graph',, 'system'], 'attention',, 'segmentation',, 'cnn',, 'prediction',, 'text',, 'rule',, 'vision',                           \n",
       "5  'data',, 'driven',, 'big',, 'analysis'], 'augmentation',, 'training',, 'mining',, 'augmentation'], 'stream'], 'set']                       \n",
       "6  'optimization',, 'data'], 'clustering',, 'function',, 'framework',, 'search',, 'convex',, 'algorithm'], 'belief',, 'mean',                 \n",
       "7  'deep',, 'application',, 'classification'], 'optimal',, 'gradient',, 'training',, 'architecture',, 'net',, ['towards',, 'reinforcement',   \n",
       "8  'network'], 'neural',, 'convolutional',, 'recurrent',, 'adversarial',, 'generative',, 'deep',, 'training',, 'graph',, 'fully',             \n",
       "9  'linear',, 'non',, 'time',, 'application',, 'online',, 'optimal',, 'problem'], 'space',, 'regression',, 'bound',                           \n",
       "\n",
       "                                                                                                                                           Text  \n",
       "0  [['determinant',, 'stirling',, 'cycle',, 'number',, 'count',, 'unlabeled',, 'acyclic',, 'single',, 'source',, 'automaton']]                   \n",
       "1  [['partial',, 'cube',, 'structure',, 'characterization',, 'construction']]                                                                    \n",
       "2  [['distribution',, 'integral',, 'fourier',, 'coefficient',, 'modular',, 'form',, 'half',, 'integral',, 'weight',, 'modulo',, 'prime']]        \n",
       "3  [['lesson',, 'learned',, 'deployment',, 'high',, 'interaction',, 'honeypot']]                                                                 \n",
       "4  [['empirical',, 'analysis',, 'statistical',, 'modeling',, 'attack',, 'process',, 'based',, 'honeypot']]                                       \n",
       "5  [['multimodal',, 'nested',, 'sampling',, 'efficient',, 'robust',, 'alternative',, 'mcmc',, 'method',, 'astronomical',, 'data',, 'analysis']]  \n",
       "6  [['avoiding',, 'rotated',, 'bitboards',, 'direct',, 'lookup']]                                                                                \n",
       "7  [['garching',, 'bonn',, 'deep',, 'survey',, 'gabods',, 'wide',, 'field',, 'imaging',, 'reduction',, 'pipeline']]                              \n",
       "8  [['multi',, 'dimensional',, 'recurrent',, 'neural',, 'network']]                                                                              \n",
       "9  [['aspect',, 'measurement',, 'error',, 'linear',, 'regression',, 'astronomical',, 'data']]                                                    "
      ]
     },
     "execution_count": 73,
     "metadata": {},
     "output_type": "execute_result"
    }
   ],
   "source": [
    "def format_topics_sentences(finalmodel, corpus, texts):\n",
    "    # Init output\n",
    "    sent_topics_df = pd.DataFrame()\n",
    "\n",
    "    # Get main topic in each document\n",
    "    for i, row in enumerate(finalmodel[corpus]):\n",
    "        row = sorted(row, key=lambda x: (x[1]), reverse=True)\n",
    "        # Get the Dominant topic, Perc Contribution and Keywords for each document\n",
    "        for j, (topic_num, prop_topic) in enumerate(row):\n",
    "            if j == 0:  # => dominant topic\n",
    "                wp = finalmodel.show_topic(topic_num)\n",
    "                topic_keywords = \", \".join([word for word, prop in wp])\n",
    "                sent_topics_df = sent_topics_df.append(pd.Series([int(topic_num), round(prop_topic,4), topic_keywords]), ignore_index=True)\n",
    "            else:\n",
    "                break\n",
    "    sent_topics_df.columns = ['Dominant_Topic', 'Perc_Contribution', 'Topic_Keywords']\n",
    "\n",
    "    # Add original text to the end of the output\n",
    "    contents = pd.Series(texts)\n",
    "    sent_topics_df = pd.concat([sent_topics_df, contents], axis=1)\n",
    "    return(sent_topics_df)\n",
    "\n",
    "\n",
    "df_topic_sents_keywords = format_topics_sentences(finalmodel=nmfmodel, corpus=corpus, texts=dataset)\n",
    "\n",
    "# Format\n",
    "df_dominant_topic = df_topic_sents_keywords.reset_index()\n",
    "df_dominant_topic.columns = ['Document_No', 'Dominant_Topic', 'Topic_Perc_Contrib', 'Keywords', 'Text']\n",
    "\n",
    "# Show\n",
    "df_dominant_topic.head(10)"
   ]
  },
  {
   "cell_type": "code",
   "execution_count": 74,
   "metadata": {},
   "outputs": [],
   "source": [
    "df_dominant_topic.to_csv('DocumentsForEachTopic2.csv')"
   ]
  },
  {
   "cell_type": "code",
   "execution_count": 101,
   "metadata": {},
   "outputs": [
    {
     "data": {
      "text/html": [
       "<div>\n",
       "<style scoped>\n",
       "    .dataframe tbody tr th:only-of-type {\n",
       "        vertical-align: middle;\n",
       "    }\n",
       "\n",
       "    .dataframe tbody tr th {\n",
       "        vertical-align: top;\n",
       "    }\n",
       "\n",
       "    .dataframe thead th {\n",
       "        text-align: right;\n",
       "    }\n",
       "</style>\n",
       "<table border=\"1\" class=\"dataframe\">\n",
       "  <thead>\n",
       "    <tr style=\"text-align: right;\">\n",
       "      <th></th>\n",
       "      <th>Dominant_Topic</th>\n",
       "      <th>Topic_Keywords</th>\n",
       "      <th>Num_Documents</th>\n",
       "      <th>Perc_Documents</th>\n",
       "    </tr>\n",
       "  </thead>\n",
       "  <tbody>\n",
       "    <tr>\n",
       "      <td>0.0</td>\n",
       "      <td>29.0</td>\n",
       "      <td>'estimation',, 'graph',, 'pose',, 'supervised',, 'depth',, 'image'], 'single',, 'density',, 'parameter',, 'semi',</td>\n",
       "      <td>2318.0</td>\n",
       "      <td>0.0221</td>\n",
       "    </tr>\n",
       "    <tr>\n",
       "      <td>1.0</td>\n",
       "      <td>3.0</td>\n",
       "      <td>'kernel',, 'vector',, 'machine',, 'analysis'], 'support',, 'network',, 'machine'], 'multiple',, 'quantum',, 'space',</td>\n",
       "      <td>1929.0</td>\n",
       "      <td>0.0184</td>\n",
       "    </tr>\n",
       "    <tr>\n",
       "      <td>2.0</td>\n",
       "      <td>28.0</td>\n",
       "      <td>'set',, 'system'], 'answer',, 'modeling',, 'random',, 'programming'], 'level',, 'question',, 'programming',, 'language',</td>\n",
       "      <td>2661.0</td>\n",
       "      <td>0.0254</td>\n",
       "    </tr>\n",
       "    <tr>\n",
       "      <td>3.0</td>\n",
       "      <td>15.0</td>\n",
       "      <td>'high',, 'method',, 'sparse',, 'dimensional',, 'matrix',, 'data'], ['efficient',, 'resolution',, ['fast',, 'gradient',</td>\n",
       "      <td>4009.0</td>\n",
       "      <td>0.0383</td>\n",
       "    </tr>\n",
       "    <tr>\n",
       "      <td>4.0</td>\n",
       "      <td>4.0</td>\n",
       "      <td>'based',, 'graph',, 'system'], 'attention',, 'segmentation',, 'cnn',, 'prediction',, 'text',, 'rule',, 'vision',</td>\n",
       "      <td>1290.0</td>\n",
       "      <td>0.0123</td>\n",
       "    </tr>\n",
       "    <tr>\n",
       "      <td>5.0</td>\n",
       "      <td>31.0</td>\n",
       "      <td>'data',, 'driven',, 'big',, 'analysis'], 'augmentation',, 'training',, 'mining',, 'augmentation'], 'stream'], 'set']</td>\n",
       "      <td>2305.0</td>\n",
       "      <td>0.0220</td>\n",
       "    </tr>\n",
       "    <tr>\n",
       "      <td>6.0</td>\n",
       "      <td>13.0</td>\n",
       "      <td>'optimization',, 'data'], 'clustering',, 'function',, 'framework',, 'search',, 'convex',, 'algorithm'], 'belief',, 'mean',</td>\n",
       "      <td>5840.0</td>\n",
       "      <td>0.0558</td>\n",
       "    </tr>\n",
       "    <tr>\n",
       "      <td>7.0</td>\n",
       "      <td>7.0</td>\n",
       "      <td>'deep',, 'application',, 'classification'], 'optimal',, 'gradient',, 'training',, 'architecture',, 'net',, ['towards',, 'reinforcement',</td>\n",
       "      <td>488.0</td>\n",
       "      <td>0.0047</td>\n",
       "    </tr>\n",
       "    <tr>\n",
       "      <td>8.0</td>\n",
       "      <td>12.0</td>\n",
       "      <td>'network'], 'neural',, 'convolutional',, 'recurrent',, 'adversarial',, 'generative',, 'deep',, 'training',, 'graph',, 'fully',</td>\n",
       "      <td>3058.0</td>\n",
       "      <td>0.0292</td>\n",
       "    </tr>\n",
       "    <tr>\n",
       "      <td>9.0</td>\n",
       "      <td>2.0</td>\n",
       "      <td>'linear',, 'non',, 'time',, 'application',, 'online',, 'optimal',, 'problem'], 'space',, 'regression',, 'bound',</td>\n",
       "      <td>2502.0</td>\n",
       "      <td>0.0239</td>\n",
       "    </tr>\n",
       "  </tbody>\n",
       "</table>\n",
       "</div>"
      ],
      "text/plain": [
       "     Dominant_Topic  \\\n",
       "0.0  29.0             \n",
       "1.0  3.0              \n",
       "2.0  28.0             \n",
       "3.0  15.0             \n",
       "4.0  4.0              \n",
       "5.0  31.0             \n",
       "6.0  13.0             \n",
       "7.0  7.0              \n",
       "8.0  12.0             \n",
       "9.0  2.0              \n",
       "\n",
       "                                                                                                                               Topic_Keywords  \\\n",
       "0.0  'estimation',, 'graph',, 'pose',, 'supervised',, 'depth',, 'image'], 'single',, 'density',, 'parameter',, 'semi',                          \n",
       "1.0  'kernel',, 'vector',, 'machine',, 'analysis'], 'support',, 'network',, 'machine'], 'multiple',, 'quantum',, 'space',                       \n",
       "2.0  'set',, 'system'], 'answer',, 'modeling',, 'random',, 'programming'], 'level',, 'question',, 'programming',, 'language',                   \n",
       "3.0  'high',, 'method',, 'sparse',, 'dimensional',, 'matrix',, 'data'], ['efficient',, 'resolution',, ['fast',, 'gradient',                     \n",
       "4.0  'based',, 'graph',, 'system'], 'attention',, 'segmentation',, 'cnn',, 'prediction',, 'text',, 'rule',, 'vision',                           \n",
       "5.0  'data',, 'driven',, 'big',, 'analysis'], 'augmentation',, 'training',, 'mining',, 'augmentation'], 'stream'], 'set']                       \n",
       "6.0  'optimization',, 'data'], 'clustering',, 'function',, 'framework',, 'search',, 'convex',, 'algorithm'], 'belief',, 'mean',                 \n",
       "7.0  'deep',, 'application',, 'classification'], 'optimal',, 'gradient',, 'training',, 'architecture',, 'net',, ['towards',, 'reinforcement',   \n",
       "8.0  'network'], 'neural',, 'convolutional',, 'recurrent',, 'adversarial',, 'generative',, 'deep',, 'training',, 'graph',, 'fully',             \n",
       "9.0  'linear',, 'non',, 'time',, 'application',, 'online',, 'optimal',, 'problem'], 'space',, 'regression',, 'bound',                           \n",
       "\n",
       "     Num_Documents  Perc_Documents  \n",
       "0.0  2318.0         0.0221          \n",
       "1.0  1929.0         0.0184          \n",
       "2.0  2661.0         0.0254          \n",
       "3.0  4009.0         0.0383          \n",
       "4.0  1290.0         0.0123          \n",
       "5.0  2305.0         0.0220          \n",
       "6.0  5840.0         0.0558          \n",
       "7.0  488.0          0.0047          \n",
       "8.0  3058.0         0.0292          \n",
       "9.0  2502.0         0.0239          "
      ]
     },
     "execution_count": 101,
     "metadata": {},
     "output_type": "execute_result"
    }
   ],
   "source": [
    "# Number of Documents for Each Topic\n",
    "topic_counts = df_topic_sents_keywords['Dominant_Topic'].value_counts()\n",
    "\n",
    "# Percentage of Documents for Each Topic\n",
    "topic_contribution = round(topic_counts/topic_counts.sum(), 4)\n",
    "\n",
    "# Topic Number and Keywords\n",
    "topic_num_keywords = df_topic_sents_keywords[['Dominant_Topic', 'Topic_Keywords']]\n",
    "\n",
    "# Concatenate Column wise\n",
    "df_dominant_topics = pd.concat([topic_num_keywords, topic_counts, topic_contribution], axis=1)\n",
    "\n",
    "# Change Column names\n",
    "df_dominant_topics.columns = ['Dominant_Topic', 'Topic_Keywords', 'Num_Documents', 'Perc_Documents']\n",
    "\n",
    "# Show\n",
    "df_dominant_topics.head(10)"
   ]
  },
  {
   "cell_type": "code",
   "execution_count": 102,
   "metadata": {},
   "outputs": [],
   "source": [
    "df_dominant_topics.to_csv('TopicandNumberofDocuments1.csv')"
   ]
  },
  {
   "cell_type": "code",
   "execution_count": 99,
   "metadata": {},
   "outputs": [
    {
     "data": {
      "text/plain": [
       "[(0,\n",
       "  '0.174*\"\\'time\\',\" + 0.050*\"\\'real\\',\" + 0.041*\"\\'series\\',\" + 0.022*\"[\\'real\\',\" + 0.014*\"\\'tree\\',\" + 0.009*\"\\'series\\']\" + 0.009*\"\\'dynamic\\',\" + 0.008*\"\\'based\\',\" + 0.007*\"\\'approximate\\',\" + 0.006*\"\\'continuous\\',\" + 0.006*\"[\\'new\\',\" + 0.006*\"\\'bayesian\\',\" + 0.005*\"\\'decision\\',\" + 0.005*\"\\'prediction\\',\" + 0.005*\"\\'markov\\',\" + 0.005*\"\\'optimization\\',\" + 0.004*\"\\'semantic\\',\" + 0.004*\"\\'multivariate\\',\" + 0.004*\"\\'event\\',\" + 0.004*\"\\'tracking\\',\"'),\n",
       " (1,\n",
       "  '0.212*\"\\'model\\']\" + 0.035*\"\\'machine\\',\" + 0.026*\"\\'generative\\',\" + 0.020*\"\\'language\\',\" + 0.012*\"\\'sequence\\',\" + 0.012*\"\\'graphical\\',\" + 0.008*\"\\'neural\\',\" + 0.008*\"\\'translation\\',\" + 0.008*\"\\'mixture\\',\" + 0.007*\"\\'latent\\',\" + 0.007*\"\\'translation\\']\" + 0.007*\"\\'inference\\',\" + 0.006*\"\\'adversarial\\',\" + 0.006*\"\\'topic\\',\" + 0.006*\"\\'markov\\',\" + 0.006*\"\\'hidden\\',\" + 0.005*\"\\'variable\\',\" + 0.005*\"\\'block\\',\" + 0.005*\"\\'word\\',\" + 0.004*\"\\'generation\\',\"'),\n",
       " (2,\n",
       "  '0.129*\"\\'linear\\',\" + 0.061*\"\\'non\\',\" + 0.027*\"\\'time\\',\" + 0.013*\"\\'application\\',\" + 0.012*\"\\'online\\',\" + 0.011*\"\\'optimal\\',\" + 0.011*\"\\'problem\\']\" + 0.010*\"\\'space\\',\" + 0.010*\"\\'regression\\',\" + 0.009*\"\\'bound\\',\" + 0.008*\"\\'convex\\',\" + 0.008*\"\\'real\\',\" + 0.006*\"\\'regression\\']\" + 0.006*\"[\\'sparse\\',\" + 0.004*\"\\'prediction\\',\" + 0.004*\"\\'approximation\\',\" + 0.004*\"\\'local\\',\" + 0.004*\"\\'quadratic\\',\" + 0.004*\"\\'generalized\\',\" + 0.003*\"\\'convergence\\',\"'),\n",
       " (3,\n",
       "  '0.088*\"\\'kernel\\',\" + 0.051*\"\\'vector\\',\" + 0.044*\"\\'machine\\',\" + 0.037*\"\\'analysis\\']\" + 0.029*\"\\'support\\',\" + 0.020*\"\\'network\\',\" + 0.017*\"\\'machine\\']\" + 0.016*\"\\'multiple\\',\" + 0.013*\"\\'quantum\\',\" + 0.007*\"\\'space\\',\" + 0.006*\"\\'word\\',\" + 0.006*\"\\'regression\\',\" + 0.005*\"\\'component\\',\" + 0.005*\"[\\'efficient\\',\" + 0.005*\"[\\'neural\\',\" + 0.004*\"\\'space\\']\" + 0.004*\"[\\'multi\\',\" + 0.004*\"\\'translation\\',\" + 0.004*\"\\'correlation\\',\" + 0.004*\"\\'case\\',\"'),\n",
       " (4,\n",
       "  '0.307*\"\\'based\\',\" + 0.005*\"\\'graph\\',\" + 0.005*\"\\'system\\']\" + 0.005*\"\\'attention\\',\" + 0.004*\"\\'segmentation\\',\" + 0.003*\"\\'cnn\\',\" + 0.003*\"\\'prediction\\',\" + 0.003*\"\\'text\\',\" + 0.003*\"\\'rule\\',\" + 0.003*\"\\'vision\\',\" + 0.003*\"[\\'novel\\',\" + 0.003*\"[\\'model\\',\" + 0.002*\"\\'feature\\']\" + 0.002*\"\\'motion\\',\" + 0.002*\"\\'retrieval\\',\" + 0.002*\"[\\'graph\\',\" + 0.002*\"\\'adaptive\\',\" + 0.002*\"\\'generation\\',\" + 0.002*\"\\'identification\\',\" + 0.002*\"\\'control\\',\"'),\n",
       " (5,\n",
       "  '0.235*\"\\'via\\',\" + 0.007*\"\\'matrix\\',\" + 0.007*\"\\'random\\',\" + 0.006*\"\\'adversarial\\',\" + 0.005*\"\\'graph\\',\" + 0.005*\"\\'adaptive\\',\" + 0.004*\"\\'segmentation\\',\" + 0.004*\"\\'domain\\',\" + 0.004*\"\\'tensor\\',\" + 0.003*\"[\\'robust\\',\" + 0.003*\"\\'prediction\\',\" + 0.003*\"\\'knowledge\\',\" + 0.003*\"[\\'improving\\',\" + 0.003*\"\\'sampling\\']\" + 0.003*\"[\\'fast\\',\" + 0.003*\"\\'convex\\',\" + 0.003*\"\\'embedding\\']\" + 0.003*\"\\'optimal\\',\" + 0.002*\"\\'method\\']\" + 0.002*\"\\'rank\\',\"'),\n",
       " (6,\n",
       "  '0.220*\"\\'network\\',\" + 0.150*\"\\'neural\\',\" + 0.043*\"\\'convolutional\\',\" + 0.014*\"\\'recurrent\\',\" + 0.009*\"[\\'deep\\',\" + 0.007*\"\\'deep\\',\" + 0.006*\"\\'training\\',\" + 0.005*\"[\\'convolutional\\',\" + 0.005*\"\\'adversarial\\',\" + 0.005*\"\\'attention\\',\" + 0.005*\"\\'classification\\']\" + 0.005*\"\\'detection\\']\" + 0.005*\"\\'architecture\\',\" + 0.004*\"\\'segmentation\\']\" + 0.004*\"\\'graph\\',\" + 0.004*\"\\'efficient\\',\" + 0.004*\"\\'prediction\\']\" + 0.003*\"[\\'neural\\',\" + 0.003*\"\\'memory\\',\" + 0.003*\"[\\'recurrent\\',\"'),\n",
       " (7,\n",
       "  '0.357*\"\\'deep\\',\" + 0.024*\"\\'application\\',\" + 0.020*\"\\'classification\\']\" + 0.010*\"\\'optimal\\',\" + 0.006*\"\\'gradient\\',\" + 0.005*\"\\'training\\',\" + 0.004*\"\\'architecture\\',\" + 0.004*\"\\'net\\',\" + 0.003*\"[\\'towards\\',\" + 0.003*\"\\'reinforcement\\',\" + 0.003*\"\\'stochastic\\',\" + 0.003*\"\\'descent\\',\" + 0.003*\"\\'visual\\',\" + 0.003*\"\\'attack\\',\" + 0.003*\"\\'framework\\',\" + 0.003*\"\\'prediction\\',\" + 0.002*\"\\'decision\\',\" + 0.002*\"\\'segmentation\\',\" + 0.002*\"\\'loss\\',\" + 0.002*\"\\'residual\\',\"'),\n",
       " (8,\n",
       "  '0.287*\"\\'using\\',\" + 0.009*\"\\'segmentation\\',\" + 0.008*\"\\'prediction\\',\" + 0.006*\"\\'convolutional\\',\" + 0.004*\"\\'feature\\']\" + 0.004*\"[\\'automatic\\',\" + 0.004*\"\\'classification\\',\" + 0.003*\"\\'detection\\',\" + 0.003*\"\\'word\\',\" + 0.003*\"[\\'image\\',\" + 0.003*\"\\'identification\\',\" + 0.003*\"[\\'predicting\\',\" + 0.003*\"\\'adversarial\\',\" + 0.003*\"\\'motion\\',\" + 0.003*\"\\'generative\\',\" + 0.003*\"\\'method\\']\" + 0.003*\"\\'video\\',\" + 0.003*\"\\'reconstruction\\',\" + 0.002*\"\\'generation\\',\" + 0.002*\"\\'localization\\',\"'),\n",
       " (9,\n",
       "  '0.180*\"\\'recognition\\',\" + 0.024*\"\\'speech\\',\" + 0.024*\"\\'end\\',\" + 0.021*\"\\'action\\',\" + 0.011*\"\\'entity\\',\" + 0.009*\"\\'emotion\\',\" + 0.009*\"\\'activity\\',\" + 0.008*\"\\'video\\',\" + 0.008*\"\\'object\\',\" + 0.008*\"\\'human\\',\" + 0.008*\"\\'visual\\',\" + 0.008*\"\\'temporal\\',\" + 0.008*\"\\'face\\',\" + 0.008*\"\\'convolutional\\',\" + 0.007*\"\\'named\\',\" + 0.007*\"\\'expression\\',\" + 0.006*\"\\'pattern\\',\" + 0.006*\"\\'gesture\\',\" + 0.006*\"\\'facial\\',\" + 0.005*\"\\'text\\',\"'),\n",
       " (10,\n",
       "  '0.202*\"[\\'learning\\',\" + 0.031*\"\\'optimization\\']\" + 0.031*\"\\'probabilistic\\',\" + 0.012*\"\\'stochastic\\',\" + 0.011*\"\\'representation\\',\" + 0.008*\"\\'gradient\\',\" + 0.007*\"\\'policy\\',\" + 0.007*\"\\'convex\\',\" + 0.007*\"\\'temporal\\',\" + 0.005*\"\\'non\\',\" + 0.005*\"\\'inference\\']\" + 0.004*\"\\'embeddings\\',\" + 0.004*\"\\'class\\',\" + 0.004*\"\\'latent\\',\" + 0.003*\"\\'dynamic\\',\" + 0.003*\"\\'robust\\',\" + 0.003*\"\\'distributed\\',\" + 0.003*\"\\'structure\\',\" + 0.003*\"\\'without\\',\" + 0.003*\"\\'graph\\',\"'),\n",
       " (11,\n",
       "  '0.088*\"\\'process\\',\" + 0.082*\"\\'gaussian\\',\" + 0.060*\"\\'inference\\',\" + 0.042*\"\\'regression\\',\" + 0.018*\"\\'process\\']\" + 0.014*\"\\'point\\',\" + 0.014*\"\\'variational\\',\" + 0.009*\"\\'mixture\\',\" + 0.008*\"[\\'bayesian\\',\" + 0.008*\"\\'markov\\',\" + 0.008*\"\\'latent\\',\" + 0.006*\"\\'programming\\',\" + 0.006*\"\\'decision\\',\" + 0.006*\"\\'fuzzy\\',\" + 0.006*\"[\\'variational\\',\" + 0.006*\"[\\'gaussian\\',\" + 0.005*\"\\'dynamic\\',\" + 0.005*\"\\'sensing\\',\" + 0.004*\"\\'genetic\\',\" + 0.004*\"\\'regression\\']\"'),\n",
       " (12,\n",
       "  '0.246*\"\\'network\\']\" + 0.144*\"\\'neural\\',\" + 0.058*\"\\'convolutional\\',\" + 0.020*\"\\'recurrent\\',\" + 0.020*\"\\'adversarial\\',\" + 0.016*\"\\'generative\\',\" + 0.013*\"\\'deep\\',\" + 0.007*\"\\'training\\',\" + 0.006*\"\\'graph\\',\" + 0.005*\"\\'fully\\',\" + 0.004*\"\\'memory\\',\" + 0.004*\"\\'dynamic\\',\" + 0.004*\"\\'segmentation\\',\" + 0.003*\"\\'attention\\',\" + 0.003*\"\\'prediction\\',\" + 0.003*\"\\'end\\',\" + 0.003*\"\\'residual\\',\" + 0.002*\"\\'classification\\',\" + 0.002*\"\\'algorithm\\']\" + 0.002*\"\\'sequence\\',\"'),\n",
       " (13,\n",
       "  '0.086*\"\\'optimization\\',\" + 0.070*\"\\'data\\']\" + 0.069*\"\\'clustering\\',\" + 0.034*\"\\'function\\',\" + 0.011*\"\\'framework\\',\" + 0.010*\"\\'search\\',\" + 0.009*\"\\'convex\\',\" + 0.008*\"\\'algorithm\\']\" + 0.006*\"\\'belief\\',\" + 0.005*\"\\'mean\\',\" + 0.005*\"\\'distributed\\',\" + 0.005*\"\\'objective\\',\" + 0.005*\"\\'spectral\\',\" + 0.004*\"\\'stochastic\\',\" + 0.004*\"\\'using\\',\" + 0.004*\"\\'constrained\\',\" + 0.004*\"\\'subspace\\',\" + 0.004*\"[\\'bayesian\\',\" + 0.003*\"\\'loss\\',\" + 0.003*\"\\'network\\',\"'),\n",
       " (14,\n",
       "  '0.094*\"\\'classification\\',\" + 0.063*\"\\'information\\',\" + 0.045*\"\\'approach\\']\" + 0.022*\"\\'reinforcement\\',\" + 0.011*\"\\'theory\\',\" + 0.011*\"\\'self\\',\" + 0.008*\"\\'representation\\',\" + 0.008*\"\\'supervised\\',\" + 0.006*\"\\'text\\',\" + 0.006*\"\\'semantic\\',\" + 0.006*\"[\\'efficient\\',\" + 0.005*\"\\'theoretic\\',\" + 0.004*\"\\'state\\',\" + 0.004*\"\\'video\\',\" + 0.004*\"\\'segmentation\\',\" + 0.004*\"\\'human\\',\" + 0.004*\"\\'agent\\',\" + 0.004*\"\\'extraction\\',\" + 0.004*\"\\'learning\\',\" + 0.003*\"\\'decision\\',\"'),\n",
       " (15,\n",
       "  '0.084*\"\\'high\\',\" + 0.072*\"\\'method\\',\" + 0.065*\"\\'sparse\\',\" + 0.059*\"\\'dimensional\\',\" + 0.019*\"\\'matrix\\',\" + 0.011*\"\\'data\\']\" + 0.010*\"[\\'efficient\\',\" + 0.009*\"\\'resolution\\',\" + 0.009*\"[\\'fast\\',\" + 0.008*\"\\'gradient\\',\" + 0.007*\"\\'decision\\',\" + 0.007*\"\\'adaptive\\',\" + 0.006*\"\\'non\\',\" + 0.005*\"\\'stochastic\\',\" + 0.005*\"\\'regression\\']\" + 0.005*\"\\'order\\',\" + 0.004*\"\\'convex\\',\" + 0.004*\"[\\'high\\',\" + 0.004*\"\\'low\\',\" + 0.004*\"\\'dimension\\']\"'),\n",
       " (16,\n",
       "  '0.085*\"\\'artificial\\',\" + 0.040*\"\\'uncertainty\\',\" + 0.037*\"\\'problem\\']\" + 0.037*\"\\'intelligence\\']\" + 0.023*\"\\'intelligence\\',\" + 0.020*\"[\\'proceeding\\',\" + 0.019*\"\\'machine\\',\" + 0.019*\"\\'neural\\',\" + 0.016*\"\\'conference\\',\" + 0.011*\"\\'method\\',\" + 0.008*\"\\'order\\',\" + 0.008*\"\\'prediction\\',\" + 0.006*\"\\'optimization\\',\" + 0.006*\"\\'large\\',\" + 0.005*\"\\'translation\\']\" + 0.004*\"\\'general\\',\" + 0.004*\"\\'solving\\',\" + 0.004*\"\\'workshop\\',\" + 0.004*\"\\'problem\\',\" + 0.004*\"\\'first\\',\"'),\n",
       " (17,\n",
       "  '0.156*\"\\'feature\\',\" + 0.084*\"\\'selection\\',\" + 0.063*\"\\'method\\',\" + 0.025*\"\\'classification\\',\" + 0.008*\"\\'extraction\\',\" + 0.008*\"[\\'feature\\',\" + 0.006*\"\\'word\\',\" + 0.006*\"\\'optimization\\',\" + 0.006*\"\\'detection\\']\" + 0.005*\"\\'text\\',\" + 0.005*\"\\'classification\\']\" + 0.005*\"\\'tree\\',\" + 0.004*\"\\'variable\\',\" + 0.004*\"\\'unsupervised\\',\" + 0.004*\"\\'visual\\',\" + 0.003*\"\\'selection\\']\" + 0.003*\"\\'automatic\\',\" + 0.003*\"\\'random\\',\" + 0.003*\"\\'object\\',\" + 0.003*\"[\\'unsupervised\\',\"'),\n",
       " (18,\n",
       "  '0.222*\"\\'approach\\',\" + 0.006*\"\\'non\\',\" + 0.006*\"[\\'novel\\',\" + 0.006*\"\\'detection\\']\" + 0.005*\"[\\'new\\',\" + 0.005*\"[\\'hybrid\\',\" + 0.005*\"\\'driven\\',\" + 0.004*\"\\'problem\\']\" + 0.004*\"\\'text\\',\" + 0.004*\"\\'image\\']\" + 0.003*\"[\\'bayesian\\',\" + 0.003*\"\\'human\\',\" + 0.003*\"\\'theoretic\\',\" + 0.003*\"\\'unsupervised\\',\" + 0.003*\"\\'supervised\\',\" + 0.003*\"\\'segmentation\\']\" + 0.003*\"\\'automatic\\',\" + 0.003*\"\\'modeling\\',\" + 0.003*\"[\\'machine\\',\" + 0.003*\"\\'image\\',\"'),\n",
       " (19,\n",
       "  '0.254*\"\\'model\\',\" + 0.010*\"\\'generative\\',\" + 0.010*\"\\'language\\',\" + 0.006*\"\\'sequence\\',\" + 0.005*\"\\'latent\\',\" + 0.004*\"\\'graphical\\',\" + 0.004*\"\\'prediction\\',\" + 0.004*\"\\'topic\\',\" + 0.004*\"\\'mixture\\',\" + 0.004*\"\\'attention\\',\" + 0.004*\"\\'predictive\\',\" + 0.003*\"[\\'neural\\',\" + 0.003*\"\\'dynamic\\',\" + 0.003*\"\\'free\\',\" + 0.003*\"[\\'bayesian\\',\" + 0.003*\"[\\'generative\\',\" + 0.003*\"\\'word\\',\" + 0.003*\"\\'variable\\',\" + 0.003*\"\\'speech\\',\" + 0.003*\"\\'prediction\\']\"'),\n",
       " (20,\n",
       "  '0.235*\"\\'image\\',\" + 0.012*\"\\'segmentation\\',\" + 0.011*\"\\'segmentation\\']\" + 0.011*\"\\'adversarial\\',\" + 0.011*\"\\'classification\\']\" + 0.009*\"\\'medical\\',\" + 0.009*\"\\'single\\',\" + 0.007*\"\\'super\\',\" + 0.007*\"\\'feature\\',\" + 0.006*\"\\'convolutional\\',\" + 0.006*\"\\'resolution\\',\" + 0.006*\"\\'semantic\\',\" + 0.006*\"\\'generative\\',\" + 0.005*\"\\'retrieval\\']\" + 0.005*\"\\'quality\\',\" + 0.005*\"\\'classification\\',\" + 0.004*\"\\'translation\\']\" + 0.004*\"\\'domain\\',\" + 0.004*\"\\'hyperspectral\\',\" + 0.004*\"\\'translation\\',\"'),\n",
       " (21,\n",
       "  '0.305*\"\\'learning\\',\" + 0.027*\"[\\'deep\\',\" + 0.025*\"\\'machine\\',\" + 0.021*\"\\'reinforcement\\',\" + 0.010*\"\\'supervised\\',\" + 0.009*\"[\\'machine\\',\" + 0.006*\"\\'transfer\\',\" + 0.006*\"\\'representation\\',\" + 0.006*\"\\'task\\',\" + 0.005*\"[\\'unsupervised\\',\" + 0.004*\"\\'end\\',\" + 0.004*\"\\'active\\',\" + 0.004*\"\\'online\\',\" + 0.004*\"\\'unsupervised\\',\" + 0.004*\"\\'shot\\',\" + 0.004*\"\\'framework\\',\" + 0.004*\"[\\'reinforcement\\',\" + 0.003*\"\\'metric\\',\" + 0.003*\"[\\'transfer\\',\" + 0.003*\"\\'policy\\',\"'),\n",
       " (22,\n",
       "  '0.205*\"\\'analysis\\',\" + 0.014*\"\\'sentiment\\',\" + 0.013*\"\\'component\\',\" + 0.008*\"\\'random\\',\" + 0.008*\"\\'principal\\',\" + 0.005*\"\\'application\\',\" + 0.005*\"\\'language\\',\" + 0.005*\"\\'text\\',\" + 0.004*\"\\'dynamic\\',\" + 0.004*\"\\'social\\',\" + 0.004*\"\\'data\\']\" + 0.004*\"[\\'sentiment\\',\" + 0.003*\"\\'discriminant\\',\" + 0.003*\"\\'correlation\\',\" + 0.003*\"\\'method\\']\" + 0.003*\"\\'image\\']\" + 0.003*\"\\'algorithm\\']\" + 0.003*\"[\\'comparative\\',\" + 0.003*\"\\'natural\\',\" + 0.003*\"[\\'convergence\\',\"'),\n",
       " (23,\n",
       "  '0.158*\"\\'system\\',\" + 0.033*\"\\'efficient\\',\" + 0.013*\"\\'method\\',\" + 0.012*\"\\'robust\\',\" + 0.008*\"\\'dynamic\\',\" + 0.008*\"\\'dynamical\\',\" + 0.007*\"\\'machine\\',\" + 0.006*\"\\'end\\',\" + 0.006*\"\\'power\\',\" + 0.005*\"\\'identification\\',\" + 0.005*\"\\'translation\\',\" + 0.005*\"\\'recommender\\',\" + 0.005*\"\\'fuzzy\\',\" + 0.005*\"\\'control\\',\" + 0.004*\"[\\'towards\\',\" + 0.004*\"\\'dialogue\\',\" + 0.004*\"\\'knowledge\\',\" + 0.004*\"\\'automatic\\',\" + 0.004*\"\\'nonlinear\\',\" + 0.003*\"\\'design\\',\"'),\n",
       " (24,\n",
       "  '0.239*\"\\'multi\\',\" + 0.030*\"\\'task\\',\" + 0.022*\"\\'view\\',\" + 0.020*\"\\'label\\',\" + 0.017*\"\\'agent\\',\" + 0.011*\"\\'modal\\',\" + 0.008*\"\\'classification\\']\" + 0.008*\"\\'objective\\',\" + 0.008*\"\\'armed\\',\" + 0.008*\"\\'level\\',\" + 0.008*\"[\\'multi\\',\" + 0.008*\"\\'class\\',\" + 0.006*\"\\'scale\\',\" + 0.006*\"\\'domain\\',\" + 0.005*\"\\'object\\',\" + 0.005*\"\\'bandit\\',\" + 0.005*\"\\'segmentation\\',\" + 0.004*\"\\'layer\\',\" + 0.004*\"\\'binary\\',\" + 0.004*\"\\'tracking\\',\"'),\n",
       " (25,\n",
       "  '0.257*\"\\'learning\\']\" + 0.064*\"\\'reinforcement\\',\" + 0.056*\"\\'machine\\',\" + 0.014*\"\\'supervised\\',\" + 0.010*\"\\'deep\\',\" + 0.009*\"\\'representation\\',\" + 0.009*\"\\'transfer\\',\" + 0.008*\"\\'shot\\',\" + 0.007*\"\\'adversarial\\',\" + 0.006*\"\\'policy\\',\" + 0.006*\"\\'task\\',\" + 0.006*\"\\'semi\\',\" + 0.006*\"\\'unsupervised\\',\" + 0.005*\"\\'translation\\']\" + 0.005*\"\\'online\\',\" + 0.005*\"\\'translation\\',\" + 0.005*\"\\'agent\\',\" + 0.004*\"\\'distributed\\',\" + 0.004*\"\\'dictionary\\',\" + 0.004*\"\\'meta\\',\"'),\n",
       " (26,\n",
       "  '0.217*\"\\'based\\',\" + 0.015*\"\\'sparse\\',\" + 0.015*\"\\'algorithm\\']\" + 0.014*\"\\'local\\',\" + 0.014*\"\\'feature\\',\" + 0.010*\"\\'video\\',\" + 0.009*\"\\'framework\\',\" + 0.007*\"\\'recognition\\']\" + 0.005*\"\\'attention\\',\" + 0.005*\"\\'point\\',\" + 0.004*\"\\'fusion\\',\" + 0.004*\"\\'matching\\',\" + 0.004*\"[\\'image\\',\" + 0.003*\"\\'retrieval\\',\" + 0.003*\"\\'evaluation\\',\" + 0.003*\"\\'detection\\']\" + 0.003*\"\\'block\\',\" + 0.003*\"\\'extraction\\',\" + 0.003*\"\\'content\\',\" + 0.003*\"\\'gradient\\',\"'),\n",
       " (27,\n",
       "  '0.196*\"\\'algorithm\\',\" + 0.015*\"\\'matrix\\',\" + 0.009*\"\\'problem\\']\" + 0.008*\"[\\'fast\\',\" + 0.008*\"\\'genetic\\',\" + 0.007*\"\\'optimization\\']\" + 0.007*\"\\'evolutionary\\',\" + 0.007*\"\\'optimization\\',\" + 0.006*\"\\'multiple\\',\" + 0.006*\"\\'optimal\\',\" + 0.005*\"[\\'efficient\\',\" + 0.005*\"\\'efficient\\',\" + 0.004*\"\\'problem\\',\" + 0.004*\"\\'application\\']\" + 0.004*\"\\'application\\',\" + 0.004*\"\\'search\\',\" + 0.003*\"\\'robust\\',\" + 0.003*\"\\'distributed\\',\" + 0.003*\"\\'mean\\',\" + 0.003*\"\\'parallel\\',\"'),\n",
       " (28,\n",
       "  '0.086*\"\\'set\\',\" + 0.051*\"\\'system\\']\" + 0.023*\"\\'answer\\',\" + 0.019*\"\\'modeling\\',\" + 0.016*\"\\'random\\',\" + 0.011*\"\\'programming\\']\" + 0.009*\"\\'level\\',\" + 0.009*\"\\'question\\',\" + 0.008*\"\\'programming\\',\" + 0.007*\"\\'language\\',\" + 0.006*\"\\'open\\',\" + 0.006*\"\\'end\\',\" + 0.005*\"\\'point\\',\" + 0.005*\"\\'framework\\',\" + 0.004*\"\\'theory\\',\" + 0.004*\"\\'problem\\',\" + 0.004*\"\\'information\\',\" + 0.004*\"\\'application\\',\" + 0.004*\"\\'recommender\\',\" + 0.004*\"\\'dialogue\\',\"'),\n",
       " (29,\n",
       "  '0.150*\"\\'estimation\\',\" + 0.068*\"\\'graph\\',\" + 0.036*\"\\'pose\\',\" + 0.017*\"\\'supervised\\',\" + 0.014*\"\\'depth\\',\" + 0.012*\"\\'image\\']\" + 0.009*\"\\'single\\',\" + 0.007*\"\\'density\\',\" + 0.007*\"\\'parameter\\',\" + 0.006*\"\\'semi\\',\" + 0.006*\"\\'object\\',\" + 0.006*\"\\'monocular\\',\" + 0.006*\"\\'knowledge\\',\" + 0.005*\"\\'human\\',\" + 0.004*\"\\'motion\\',\" + 0.004*\"\\'robust\\',\" + 0.004*\"\\'multiple\\',\" + 0.004*\"[\\'robust\\',\" + 0.004*\"\\'rgb\\',\" + 0.004*\"\\'likelihood\\',\"'),\n",
       " (30,\n",
       "  '0.138*\"\\'scale\\',\" + 0.122*\"\\'large\\',\" + 0.029*\"\\'stochastic\\',\" + 0.023*\"\\'graph\\',\" + 0.017*\"\\'human\\',\" + 0.015*\"\\'gradient\\',\" + 0.013*\"[\\'large\\',\" + 0.009*\"\\'dataset\\',\" + 0.006*\"[\\'multi\\',\" + 0.006*\"\\'visual\\',\" + 0.005*\"\\'knowledge\\',\" + 0.005*\"\\'distributed\\',\" + 0.005*\"\\'descent\\',\" + 0.005*\"\\'algorithm\\',\" + 0.004*\"\\'spectral\\',\" + 0.004*\"\\'video\\',\" + 0.004*\"\\'training\\',\" + 0.003*\"\\'optimization\\']\" + 0.003*\"\\'evaluation\\',\" + 0.003*\"\\'classification\\']\"'),\n",
       " (31,\n",
       "  '0.237*\"\\'data\\',\" + 0.014*\"\\'driven\\',\" + 0.012*\"\\'big\\',\" + 0.010*\"\\'analysis\\']\" + 0.009*\"\\'augmentation\\',\" + 0.006*\"\\'training\\',\" + 0.006*\"\\'mining\\',\" + 0.004*\"\\'augmentation\\']\" + 0.004*\"\\'stream\\']\" + 0.004*\"\\'set\\']\" + 0.004*\"\\'missing\\',\" + 0.003*\"\\'prediction\\',\" + 0.003*\"\\'application\\',\" + 0.003*\"\\'synthetic\\',\" + 0.003*\"\\'sensor\\',\" + 0.003*\"\\'classification\\']\" + 0.003*\"\\'efficient\\',\" + 0.003*\"\\'text\\',\" + 0.003*\"\\'analytics\\',\" + 0.002*\"\\'generation\\',\"'),\n",
       " (32,\n",
       "  '0.163*\"\\'detection\\',\" + 0.074*\"\\'object\\',\" + 0.012*\"\\'detection\\']\" + 0.011*\"\\'video\\',\" + 0.010*\"\\'image\\']\" + 0.010*\"\\'anomaly\\',\" + 0.008*\"[\\'learning\\',\" + 0.008*\"\\'online\\',\" + 0.007*\"\\'segmentation\\',\" + 0.006*\"\\'supervised\\',\" + 0.005*\"\\'tracking\\',\" + 0.005*\"\\'video\\']\" + 0.004*\"\\'point\\',\" + 0.004*\"\\'semantic\\',\" + 0.004*\"\\'event\\',\" + 0.004*\"\\'community\\',\" + 0.004*\"\\'salient\\',\" + 0.004*\"\\'segmentation\\']\" + 0.003*\"[\\'automatic\\',\" + 0.003*\"\\'convolutional\\',\"'),\n",
       " (33,\n",
       "  '0.093*\"\\'recognition\\']\" + 0.086*\"\\'face\\',\" + 0.053*\"\\'representation\\',\" + 0.032*\"[\\'deep\\',\" + 0.026*\"\\'human\\',\" + 0.021*\"\\'visual\\',\" + 0.018*\"\\'speech\\',\" + 0.015*\"[\\'learning\\',\" + 0.014*\"\\'action\\',\" + 0.011*\"\\'data\\']\" + 0.008*\"\\'pose\\',\" + 0.008*\"\\'end\\',\" + 0.006*\"\\'robust\\',\" + 0.006*\"\\'invariant\\',\" + 0.005*\"\\'facial\\',\" + 0.005*\"\\'video\\',\" + 0.004*\"\\'activity\\',\" + 0.004*\"\\'cross\\',\" + 0.004*\"\\'word\\',\" + 0.004*\"\\'attention\\',\"'),\n",
       " (34,\n",
       "  '0.112*\"\\'bayesian\\',\" + 0.063*\"\\'low\\',\" + 0.053*\"\\'rank\\',\" + 0.045*\"\\'language\\',\" + 0.025*\"\\'matrix\\',\" + 0.019*\"\\'natural\\',\" + 0.010*\"\\'inference\\',\" + 0.008*\"\\'tensor\\',\" + 0.007*\"\\'sparse\\',\" + 0.006*\"\\'recovery\\',\" + 0.006*\"\\'system\\']\" + 0.005*\"\\'prediction\\',\" + 0.005*\"\\'variational\\',\" + 0.005*\"\\'inference\\']\" + 0.005*\"\\'resource\\',\" + 0.005*\"\\'approximation\\',\" + 0.004*\"[\\'low\\',\" + 0.004*\"\\'factorization\\',\" + 0.004*\"\\'optimization\\']\" + 0.004*\"\\'completion\\']\"')]"
      ]
     },
     "execution_count": 99,
     "metadata": {},
     "output_type": "execute_result"
    }
   ],
   "source": [
    "nmfmodel.show_topics(num_topics=35, num_words = 20)"
   ]
  },
  {
   "cell_type": "markdown",
   "metadata": {},
   "source": [
    "Labelling the Topics"
   ]
  },
  {
   "cell_type": "code",
   "execution_count": 89,
   "metadata": {},
   "outputs": [
    {
     "name": "stdout",
     "output_type": "stream",
     "text": [
      "{0: 'time  real  series  real  tree  series  dynamic  based  approximate  continuous', 1: 'model  machine  generative  language  sequence  graphical  neural  translation  mixture  latent', 2: 'linear  non  time  application  online  optimal  problem  space  regression  bound', 3: 'kernel  vector  machine  analysis  support  network  machine  multiple  quantum  space', 4: 'based  graph  system  attention  segmentation  cnn  prediction  text  rule  vision', 5: 'via  matrix  random  adversarial  graph  adaptive  segmentation  domain  tensor  robust', 6: 'network  neural  convolutional  recurrent  deep  deep  training  convolutional  adversarial  attention', 7: 'deep  application  classification  optimal  gradient  training  architecture  net  towards  reinforcement', 8: 'using  segmentation  prediction  convolutional  feature  automatic  classification  detection  word  image', 9: 'recognition  speech  end  action  entity  emotion  activity  video  object  human', 10: 'learning  optimization  probabilistic  stochastic  representation  gradient  policy  convex  temporal  non', 11: 'process  gaussian  inference  regression  process  point  variational  mixture  bayesian  markov', 12: 'network  neural  convolutional  recurrent  adversarial  generative  deep  training  graph  fully', 13: 'optimization  data  clustering  function  framework  search  convex  algorithm  belief  mean', 14: 'classification  information  approach  reinforcement  theory  self  representation  supervised  text  semantic', 15: 'high  method  sparse  dimensional  matrix  data  efficient  resolution  fast  gradient', 16: 'artificial  uncertainty  problem  intelligence  intelligence  proceeding  machine  neural  conference  method', 17: 'feature  selection  method  classification  extraction  feature  word  optimization  detection  text', 18: 'approach  non  novel  detection  new  hybrid  driven  problem  text  image', 19: 'model  generative  language  sequence  latent  graphical  prediction  topic  mixture  attention', 20: 'image  segmentation  segmentation  adversarial  classification  medical  single  super  feature  convolutional', 21: 'learning  deep  machine  reinforcement  supervised  machine  transfer  representation  task  unsupervised', 22: 'analysis  sentiment  component  random  principal  application  language  text  dynamic  social', 23: 'system  efficient  method  robust  dynamic  dynamical  machine  end  power  identification', 24: 'multi  task  view  label  agent  modal  classification  objective  armed  level', 25: 'learning  reinforcement  machine  supervised  deep  representation  transfer  shot  adversarial  policy', 26: 'based  sparse  algorithm  local  feature  video  framework  recognition  attention  point', 27: 'algorithm  matrix  problem  fast  genetic  optimization  evolutionary  optimization  multiple  optimal', 28: 'set  system  answer  modeling  random  programming  level  question  programming  language', 29: 'estimation  graph  pose  supervised  depth  image  single  density  parameter  semi', 30: 'scale  large  stochastic  graph  human  gradient  large  dataset  multi  visual', 31: 'data  driven  big  analysis  augmentation  training  mining  augmentation  stream  set', 32: 'detection  object  detection  video  image  anomaly  learning  online  segmentation  supervised', 33: 'recognition  face  representation  deep  human  visual  speech  learning  action  data', 34: 'bayesian  low  rank  language  matrix  natural  inference  tensor  sparse  recovery'}\n"
     ]
    }
   ],
   "source": [
    "x=nmfmodel.show_topics(num_topics=35)\n",
    "\n",
    "twords={}\n",
    "for topic,word in x:\n",
    "    twords[topic]=re.sub('[^A-Za-z ]+', '', word)    \n",
    "print(twords)\n",
    "dfOne = pd.DataFrame(list(twords.items()),columns = ['Topic','Words'])\n",
    "dfOne.to_csv(\"TopicsLatest.csv\")\n",
    "\n"
   ]
  },
  {
   "cell_type": "code",
   "execution_count": 90,
   "metadata": {},
   "outputs": [],
   "source": [
    "import wikipedia\n",
    "import gensim\n",
    "import random\n",
    "\n",
    "def get_relevant_articles(keywords, search_depth=5, keyword_summary=5):\n",
    "    \"\"\"\n",
    "    Searches through a list of keywords and returns keywords based on article headers\n",
    "    in Wikipedia.    \n",
    "\n",
    "    args:\n",
    "    *  keywords: A list of keywords\n",
    "    *  search_depth: how many wikipedia search results are checked, assumes to be between 1-10\n",
    "    *  keyword_summary: gensim word argument to how many words should be used in summarization\n",
    "    \"\"\"\n",
    "    if len(keywords) == 0:\n",
    "        return []\n",
    "    wiki = wikipedia\n",
    "\n",
    "    keywords = [x.lower() for x in keywords]\n",
    "    info = []\n",
    "    for keyword in keywords:\n",
    "        results = wiki.search(keyword)\n",
    "        other_words = [x for x in keywords if x != keyword]\n",
    "        \n",
    "        if search_depth is not None:\n",
    "            results = results[:search_depth]\n",
    "\n",
    "        for result in results:\n",
    "            \n",
    "            try:\n",
    "                article = wiki.page(result)\n",
    "            except wikipedia.DisambiguationError as e:                    \n",
    "                continue\n",
    "            except wikipedia.PageError as e:\n",
    "                continue\n",
    "            summary_words = article.summary.lower().split(' ')\n",
    "            has_words = any(word in summary_words for word in other_words)\n",
    "\n",
    "            if has_words:\n",
    "                info.append(article.title)\n",
    "\n",
    "    try:\n",
    "        info_keyword = gensim.summarization.keywords(' '.join(info),\n",
    "                    words=keyword_summary).split('\\n')\n",
    "    except:\n",
    "        print(\"keyword extraction failed, defaulting to article heading output\")\n",
    "        info_keyword = info[:]\n",
    "    return info_keyword"
   ]
  },
  {
   "cell_type": "code",
   "execution_count": 91,
   "metadata": {},
   "outputs": [],
   "source": [
    "topic_words = pd.read_csv(\"TopicsLatest.csv\")\n",
    "topicwords = topic_words.Words"
   ]
  },
  {
   "cell_type": "code",
   "execution_count": 92,
   "metadata": {},
   "outputs": [
    {
     "name": "stderr",
     "output_type": "stream",
     "text": [
      "C:\\Users\\Dell\\Anaconda3\\lib\\site-packages\\wikipedia\\wikipedia.py:389: UserWarning: No parser was explicitly specified, so I'm using the best available HTML parser for this system (\"lxml\"). This usually isn't a problem, but if you run this code on another system, or in a different virtual environment, it may use a different parser and behave differently.\n",
      "\n",
      "The code that caused this warning is on line 389 of the file C:\\Users\\Dell\\Anaconda3\\lib\\site-packages\\wikipedia\\wikipedia.py. To get rid of this warning, pass the additional argument 'features=\"lxml\"' to the BeautifulSoup constructor.\n",
      "\n",
      "  lis = BeautifulSoup(html).find_all('li')\n"
     ]
    },
    {
     "name": "stdout",
     "output_type": "stream",
     "text": [
      "['approximate', 'time', 'continuous', 'probability', 'delivery']\n",
      "['model', 'network', 'generative', 'translation', 'translate', 'graphical']\n",
      "['regression', 'optimization', 'optimal', 'online', 'space', 'cpu']\n",
      "['machine', 'kernel', 'data analysis', 'tailored']\n",
      "['segmentation', 'text', 'british', 'linux distributions']\n",
      "['random variable', 'control', 'domain']\n",
      "['network', 'recurrent', 'adversarial', 'database', 'convolutional']\n",
      "['substructure', 'service', 'gradient', 'training']\n",
      "['convolutional', 'convolution', 'detection', 'image segmentation', 'stellar']\n",
      "['human', 'emotion', 'speech recognition', 'activity']\n",
      "['convex', 'optimization', 'gradient', 'learning', 'particle']\n",
      "['bayesian', 'markov', 'process', 'statistics', 'statistical inference']\n",
      "['recurrent', 'neural network', 'generative adversarial']\n",
      "['optimization', 'cluster', 'clustering', 'algorithm', 'search', 'convex']\n",
      "['semantics', 'semantic', 'learning', 'opentext', 'skinner']\n",
      "['matrix', 'sparse', 'independent', 'alveolar']\n",
      "['artificial intelligence', 'neural network', 'conference']\n",
      "['optimization', 'optimizely', 'detection', 'extraction', 'film', 'feature']\n",
      "['text', 'shoe', 'gothic', 'development']\n",
      "['model', 'generative', 'graphical', 'latent', 'alignment']\n",
      "['convolution', 'segmentation', 'convolutional neural network', 'mnist']\n",
      "['learning', 'random', 'semi', 'supervisor', 'supervised']\n",
      "['analysis', 'sentiment', 'social', 'text messaging']\n",
      "['dynamic', 'dynamical', 'machine', 'theory', 'radio']\n",
      "['classification', 'task', 'agent', 'military', 'stellar']\n",
      "['machine learning', 'generative adversarial', 'reinforcement']\n",
      "['algorithm', 'facial', 'protocol', 'game', 'independent']\n",
      "['optimal', 'mathematical optimization', 'mathematics', 'evolutionary', 'algorithm', 'local']\n",
      "['language', 'programming', 'modeling', 'conceptual model', 'theory']\n",
      "['maximum likelihood estimation', 'kernel density']\n",
      "['training', 'sets', 'research']\n",
      "['analysis', 'data', 'development', 'documentary']\n",
      "['learning', 'detection', 'online', 'supervised', 'newspaper']\n",
      "['learning', 'speech', 'recognition', 'human rights']\n",
      "['matrix', 'bayesian inference', 'disaster', 'network']\n"
     ]
    }
   ],
   "source": [
    "for t in topicwords:\n",
    "    labels = get_relevant_articles(t.split())\n",
    "    print(labels)\n"
   ]
  },
  {
   "cell_type": "code",
   "execution_count": null,
   "metadata": {},
   "outputs": [],
   "source": []
  }
 ],
 "metadata": {
  "kernelspec": {
   "display_name": "Python 3",
   "language": "python",
   "name": "python3"
  },
  "language_info": {
   "codemirror_mode": {
    "name": "ipython",
    "version": 3
   },
   "file_extension": ".py",
   "mimetype": "text/x-python",
   "name": "python",
   "nbconvert_exporter": "python",
   "pygments_lexer": "ipython3",
   "version": "3.7.4"
  }
 },
 "nbformat": 4,
 "nbformat_minor": 4
}
